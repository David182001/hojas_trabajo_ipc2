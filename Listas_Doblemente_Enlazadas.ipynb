{
  "nbformat": 4,
  "nbformat_minor": 0,
  "metadata": {
    "colab": {
      "provenance": []
    },
    "kernelspec": {
      "name": "python3",
      "display_name": "Python 3"
    },
    "language_info": {
      "name": "python"
    }
  },
  "cells": [
    {
      "cell_type": "markdown",
      "source": [
        "# **Listas Doblemente enlazadas**\n",
        "## **David Emanuel Monterroso Mox**\n",
        "## **202002930**\n",
        "**Definición de la clase Receta** "
      ],
      "metadata": {
        "id": "5Rks5b9d4669"
      }
    },
    {
      "cell_type": "code",
      "source": [
        "class receta:\n",
        "  def __init__(self, paciente, fecha_nac, doctor, colegiado, fecha_cita, hora_cita, tipo_consulta, tratamiento):\n",
        "    self.paciente = paciente\n",
        "    self.fecha_nac = fecha_nac\n",
        "    self.doctor = doctor\n",
        "    self.colegiado = colegiado\n",
        "    self.fecha_cita = fecha_cita\n",
        "    self.hora_cita = hora_cita\n",
        "    self.tipo_consulta = tipo_consulta\n",
        "    self.tratamiento = tratamiento"
      ],
      "metadata": {
        "id": "RI5w0E4z5Hs0"
      },
      "execution_count": 35,
      "outputs": []
    },
    {
      "cell_type": "markdown",
      "source": [
        "**Definicion de la clase Nodo**"
      ],
      "metadata": {
        "id": "hJt-uXKi5KX2"
      }
    },
    {
      "cell_type": "code",
      "source": [
        "class nodo:\n",
        "  def __init__(self, receta=None, siguiente=None, anterior=None):\n",
        "    self.receta = receta\n",
        "    self.siguiente = siguiente\n",
        "    self.anterior = anterior"
      ],
      "metadata": {
        "id": "7R4kZUfG5N57"
      },
      "execution_count": 36,
      "outputs": []
    },
    {
      "cell_type": "markdown",
      "source": [
        "**Definicion de la clase lista Doblemente Enlazada**"
      ],
      "metadata": {
        "id": "_sunPC9n5QUF"
      }
    },
    {
      "cell_type": "code",
      "source": [
        "class lista_doble:\n",
        "  def __init__(self):\n",
        "    self.primero = None\n",
        "\n",
        "  def insertar(self,receta):\n",
        "    if self.primero is None:\n",
        "      self.primero = nodo(receta=receta)\n",
        "    else:\n",
        "      actual = nodo(receta=receta, siguiente=self.primero)\n",
        "      self.primero.anterior = actual \n",
        "      self.primero = actual #me faltaba esta linea\n",
        "\n",
        "  def recorrer(self):\n",
        "    if self.primero is None:\n",
        "      return\n",
        "    actual = self.primero \n",
        "    print(\"Paciente:\", actual.receta.paciente, \n",
        "            \"| Fecha de Nacimiento: \", actual.receta.fecha_nac, \n",
        "            \"| Doctor: \", actual.receta.doctor,\n",
        "            \"| Colegiado: \", actual.receta.colegiado,\n",
        "            \"| Fecha cita: \", actual.receta.fecha_cita,\n",
        "            \"| Hora cita: \", actual.receta.hora_cita,\n",
        "            \"| Consulta: \", actual.receta.tipo_consulta,\n",
        "            \"| Tratamiento: \", actual.receta.tratamiento)\n",
        "    \n",
        "    while actual.siguiente:\n",
        "      actual = actual.siguiente\n",
        "      print(\"Paciente:\", actual.receta.paciente, \n",
        "            \"| Fecha de Nacimiento: \", actual.receta.fecha_nac, \n",
        "            \"| Doctor: \", actual.receta.doctor,\n",
        "            \"| Colegiado: \", actual.receta.colegiado,\n",
        "            \"| Fecha cita: \", actual.receta.fecha_cita,\n",
        "            \"| Hora cita: \", actual.receta.hora_cita,\n",
        "            \"| Consulta: \", actual.receta.tipo_consulta,\n",
        "            \"| Tratamiento: \", actual.receta.tratamiento)\n",
        "    \n",
        "  def eliminar(self, colegiado, fecha_cita, hora_cita):\n",
        "      actual = self.primero\n",
        "      while actual:\n",
        "          if actual.receta.colegiado == colegiado and actual.receta.fecha_cita == fecha_cita and actual.receta.hora_cita == hora_cita:\n",
        "              if actual.anterior:\n",
        "                  if actual.siguiente:\n",
        "                      actual.anterior.siguiente = actual.siguiente\n",
        "                      actual.siguiente.anterior = actual.anterior\n",
        "                  else:\n",
        "                      actual.anterior.siguiente = None\n",
        "              else:\n",
        "                  if actual.siguiente:\n",
        "                      self.primero = actual.siguiente\n",
        "                      actual.siguiente.anterior = None\n",
        "                  else:\n",
        "                      self.primero = None\n",
        "              return True\n",
        "          else:\n",
        "              actual = actual.siguiente\n",
        "      return False\n",
        "\n",
        "  def modificar(self, paciente, nueva_fecha, nueva_hora):\n",
        "    actual = self.primero\n",
        "    while actual is not None:\n",
        "      if actual.receta.paciente == paciente:\n",
        "        actual.receta.fecha_cita = nueva_fecha\n",
        "        actual.receta.hora_cita = nueva_hora\n",
        "        break\n",
        "      actual = actual.siguiente"
      ],
      "metadata": {
        "id": "cO5fPVqy5Wr1"
      },
      "execution_count": 37,
      "outputs": []
    },
    {
      "cell_type": "markdown",
      "source": [
        "**Creacion de nodos receta**"
      ],
      "metadata": {
        "id": "0lYSOowA5gFX"
      }
    },
    {
      "cell_type": "code",
      "source": [
        "r1 = receta(\"Gerson López\", \"03-10-1990\", \"Melvin Ortiz\", 20156, \"17-01-2023\", \n",
        "            \"11:30\", \"Medicina general\", \"2 pildoras de acetaminofén cada 6 horas\")\n",
        "r2 = receta(\"Karen Gómez\", \"08-05-2000\", \"Jorge Merida\", 8567, \"31-01-2023\", \n",
        "            \"09:00\", \"Medicina interna\", \"Tylenol de 20 ml cada 4 horas\")\n",
        "r3 = receta(\"Luis García\", \"17-09-1987\", \"Melvin Ortiz\", 20156, \"02-02-2023\", \n",
        "            \"12:00\", \"Medicina general\", \"2 cucharadas de Pepto-Bismol cada hora hasta que la diarrea desaparezca\")"
      ],
      "metadata": {
        "id": "T1m50S3s53AT"
      },
      "execution_count": 38,
      "outputs": []
    },
    {
      "cell_type": "markdown",
      "source": [
        "**Inserción**"
      ],
      "metadata": {
        "id": "N78I542B57GG"
      }
    },
    {
      "cell_type": "code",
      "source": [
        "lista_d = lista_doble()\n",
        "lista_d.insertar(r1)\n",
        "lista_d.insertar(r2)\n",
        "lista_d.insertar(r3)"
      ],
      "metadata": {
        "id": "8y_pBMZ25-Ok"
      },
      "execution_count": 39,
      "outputs": []
    },
    {
      "cell_type": "markdown",
      "source": [
        "**Recorrer**"
      ],
      "metadata": {
        "id": "n5sqY5Ag5-8x"
      }
    },
    {
      "cell_type": "code",
      "source": [
        "lista_d.recorrer()"
      ],
      "metadata": {
        "colab": {
          "base_uri": "https://localhost:8080/"
        },
        "id": "T8uRjX2A6CIF",
        "outputId": "a790e928-4004-44cc-ecd6-d49eb4c4bb49"
      },
      "execution_count": 40,
      "outputs": [
        {
          "output_type": "stream",
          "name": "stdout",
          "text": [
            "Paciente: Luis García | Fecha de Nacimiento:  17-09-1987 | Doctor:  Melvin Ortiz | Colegiado:  20156 | Fecha cita:  02-02-2023 | Hora cita:  12:00 | Consulta:  Medicina general | Tratamiento:  2 cucharadas de Pepto-Bismol cada hora hasta que la diarrea desaparezca\n",
            "Paciente: Karen Gómez | Fecha de Nacimiento:  08-05-2000 | Doctor:  Jorge Merida | Colegiado:  8567 | Fecha cita:  31-01-2023 | Hora cita:  09:00 | Consulta:  Medicina interna | Tratamiento:  Tylenol de 20 ml cada 4 horas\n",
            "Paciente: Gerson López | Fecha de Nacimiento:  03-10-1990 | Doctor:  Melvin Ortiz | Colegiado:  20156 | Fecha cita:  17-01-2023 | Hora cita:  11:30 | Consulta:  Medicina general | Tratamiento:  2 pildoras de acetaminofén cada 6 horas\n"
          ]
        }
      ]
    },
    {
      "cell_type": "markdown",
      "source": [
        "**Eliminar el nodo primero de la lista**"
      ],
      "metadata": {
        "id": "a8EpWzpW6NUK"
      }
    },
    {
      "cell_type": "code",
      "source": [
        "lista_d.eliminar(8567,\"31-01-2023\", \"09:00\")\n",
        "lista_d.recorrer()"
      ],
      "metadata": {
        "colab": {
          "base_uri": "https://localhost:8080/"
        },
        "id": "enrsdKT-6N4I",
        "outputId": "76495c4b-5989-418a-9abe-24556c3901e6"
      },
      "execution_count": 41,
      "outputs": [
        {
          "output_type": "stream",
          "name": "stdout",
          "text": [
            "Paciente: Luis García | Fecha de Nacimiento:  17-09-1987 | Doctor:  Melvin Ortiz | Colegiado:  20156 | Fecha cita:  02-02-2023 | Hora cita:  12:00 | Consulta:  Medicina general | Tratamiento:  2 cucharadas de Pepto-Bismol cada hora hasta que la diarrea desaparezca\n",
            "Paciente: Gerson López | Fecha de Nacimiento:  03-10-1990 | Doctor:  Melvin Ortiz | Colegiado:  20156 | Fecha cita:  17-01-2023 | Hora cita:  11:30 | Consulta:  Medicina general | Tratamiento:  2 pildoras de acetaminofén cada 6 horas\n"
          ]
        }
      ]
    },
    {
      "cell_type": "markdown",
      "source": [
        "**Eliminar nodo a nodo de la lista**"
      ],
      "metadata": {
        "id": "k4p5nADm6c0P"
      }
    },
    {
      "cell_type": "code",
      "source": [
        "lista_d.eliminar(20157,\"02-02-2023\",\"12:00\")\n",
        "lista_d.recorrer()"
      ],
      "metadata": {
        "colab": {
          "base_uri": "https://localhost:8080/"
        },
        "id": "bC-oEIc-6kX2",
        "outputId": "bee21461-5cd5-4881-8e9c-f41e15a2c105"
      },
      "execution_count": 42,
      "outputs": [
        {
          "output_type": "stream",
          "name": "stdout",
          "text": [
            "Paciente: Luis García | Fecha de Nacimiento:  17-09-1987 | Doctor:  Melvin Ortiz | Colegiado:  20156 | Fecha cita:  02-02-2023 | Hora cita:  12:00 | Consulta:  Medicina general | Tratamiento:  2 cucharadas de Pepto-Bismol cada hora hasta que la diarrea desaparezca\n",
            "Paciente: Gerson López | Fecha de Nacimiento:  03-10-1990 | Doctor:  Melvin Ortiz | Colegiado:  20156 | Fecha cita:  17-01-2023 | Hora cita:  11:30 | Consulta:  Medicina general | Tratamiento:  2 pildoras de acetaminofén cada 6 horas\n"
          ]
        }
      ]
    },
    {
      "cell_type": "code",
      "source": [
        "lista_d.eliminar( 8567,\"31-01-2023\", \"09:00\")\n",
        "lista_d.recorrer()"
      ],
      "metadata": {
        "colab": {
          "base_uri": "https://localhost:8080/"
        },
        "id": "bEO2-DcK6mpQ",
        "outputId": "e955f8ff-66a8-4c55-d566-2dde23a3d352"
      },
      "execution_count": 43,
      "outputs": [
        {
          "output_type": "stream",
          "name": "stdout",
          "text": [
            "Paciente: Luis García | Fecha de Nacimiento:  17-09-1987 | Doctor:  Melvin Ortiz | Colegiado:  20156 | Fecha cita:  02-02-2023 | Hora cita:  12:00 | Consulta:  Medicina general | Tratamiento:  2 cucharadas de Pepto-Bismol cada hora hasta que la diarrea desaparezca\n",
            "Paciente: Gerson López | Fecha de Nacimiento:  03-10-1990 | Doctor:  Melvin Ortiz | Colegiado:  20156 | Fecha cita:  17-01-2023 | Hora cita:  11:30 | Consulta:  Medicina general | Tratamiento:  2 pildoras de acetaminofén cada 6 horas\n"
          ]
        }
      ]
    },
    {
      "cell_type": "code",
      "source": [
        "lista_d.eliminar(20156, \"17-01-2023\", \"11:30\")\n",
        "lista_d.recorrer()"
      ],
      "metadata": {
        "colab": {
          "base_uri": "https://localhost:8080/"
        },
        "id": "u39-4siz6yaF",
        "outputId": "ee2becec-f9a2-4f8d-8d0d-e54d700d0d44"
      },
      "execution_count": 44,
      "outputs": [
        {
          "output_type": "stream",
          "name": "stdout",
          "text": [
            "Paciente: Luis García | Fecha de Nacimiento:  17-09-1987 | Doctor:  Melvin Ortiz | Colegiado:  20156 | Fecha cita:  02-02-2023 | Hora cita:  12:00 | Consulta:  Medicina general | Tratamiento:  2 cucharadas de Pepto-Bismol cada hora hasta que la diarrea desaparezca\n"
          ]
        }
      ]
    },
    {
      "cell_type": "markdown",
      "source": [
        "**Modificar**"
      ],
      "metadata": {
        "id": "WVVIVdlL7JJM"
      }
    },
    {
      "cell_type": "code",
      "source": [
        "lista_d.modificar(\"Luis García\", \"18-02-2023\", \"09:00\")"
      ],
      "metadata": {
        "id": "C95EVDCj7JyZ"
      },
      "execution_count": 51,
      "outputs": []
    },
    {
      "cell_type": "code",
      "source": [
        "lista_d.recorrer()"
      ],
      "metadata": {
        "colab": {
          "base_uri": "https://localhost:8080/"
        },
        "id": "wNIhUT0y7PMD",
        "outputId": "e568cbb5-a2b3-4200-b4c9-f105f4053bba"
      },
      "execution_count": 52,
      "outputs": [
        {
          "output_type": "stream",
          "name": "stdout",
          "text": [
            "Paciente: Luis García | Fecha de Nacimiento:  17-09-1987 | Doctor:  Melvin Ortiz | Colegiado:  20156 | Fecha cita:  18-02-2023 | Hora cita:  09:00 | Consulta:  Medicina general | Tratamiento:  2 cucharadas de Pepto-Bismol cada hora hasta que la diarrea desaparezca\n"
          ]
        }
      ]
    }
  ]
}