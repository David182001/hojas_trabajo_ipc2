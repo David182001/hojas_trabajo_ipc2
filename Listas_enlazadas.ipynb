{
  "nbformat": 4,
  "nbformat_minor": 0,
  "metadata": {
    "colab": {
      "provenance": []
    },
    "kernelspec": {
      "name": "python3",
      "display_name": "Python 3"
    },
    "language_info": {
      "name": "python"
    }
  },
  "cells": [
    {
      "cell_type": "markdown",
      "source": [
        "# **Listas enlazadas**\n",
        "## **David Emanuel Monterroso Mox**\n",
        "## **202002930**\n",
        "**Definición de la clase Receta** "
      ],
      "metadata": {
        "id": "75nJZ7YeiJq9"
      }
    },
    {
      "cell_type": "code",
      "source": [
        "class receta:\n",
        "  def __init__(self, paciente, fecha_nac, doctor, colegiado, fecha_cita,\n",
        "               hora_cita, tipo_consulta, tratamiento):\n",
        "    self.paciente = paciente\n",
        "    self.fecha_nac = fecha_nac\n",
        "    self.doctor = doctor\n",
        "    self.colegiado = colegiado\n",
        "    self.fecha_cita = fecha_cita\n",
        "    self.hora_cita = hora_cita\n",
        "    self.tipo_consulta = tipo_consulta\n",
        "    self.tratamiento = tratamiento "
      ],
      "metadata": {
        "id": "tklCjo10jG7P"
      },
      "execution_count": 4,
      "outputs": []
    },
    {
      "cell_type": "markdown",
      "source": [
        "**Definición de la clase Nodo**"
      ],
      "metadata": {
        "id": "oQaCaY_Olc-z"
      }
    },
    {
      "cell_type": "code",
      "source": [
        "class nodo:\n",
        "  def __init__(self, receta=None, siguiente=None):\n",
        "    self.receta = receta\n",
        "    self.siguiente = siguiente "
      ],
      "metadata": {
        "id": "ouVVNI_ClmWs"
      },
      "execution_count": 5,
      "outputs": []
    },
    {
      "cell_type": "markdown",
      "source": [
        "**Definición de la clase Lista Enlazada**"
      ],
      "metadata": {
        "id": "qSZgeq7eqUtc"
      }
    },
    {
      "cell_type": "code",
      "source": [
        "class lista_enlazada:\n",
        "  def __init__(self):\n",
        "    self.primero = None\n",
        "\n",
        "  def insertar(self, receta):\n",
        "    if self.primero is None:\n",
        "      self.primero = nodo(receta = receta)\n",
        "      return\n",
        "    actual = self.primero\n",
        "    while actual.siguiente:\n",
        "      actual = actual.siguiente\n",
        "    actual.siguiente = nodo(receta = receta)\n",
        "\n",
        "  def recorrer(self):\n",
        "    actual = self.primero\n",
        "    #print(\"hola\")\n",
        "    while actual != None:\n",
        "      \n",
        "      print(\"Paciente:\", actual.receta.paciente, \n",
        "            \"| Fecha de Nacimiento: \", actual.receta.fecha_nac, \n",
        "            \"| Doctor: \", actual.receta.doctor,\n",
        "            \"| Colegiado: \", actual.receta.colegiado,\n",
        "            \"| Fecha cita: \", actual.receta.fecha_cita,\n",
        "            \"| Hora cita: \", actual.receta.hora_cita,\n",
        "            \"| Consulta: \", actual.receta.tipo_consulta,\n",
        "            \"| Tratamiento: \", actual.receta.tratamiento)\n",
        "      \n",
        "      actual = actual.siguiente\n",
        "\n",
        "  def eliminar(self, colegiado, fecha_cita, hora_cita):\n",
        "    actual = self.primero\n",
        "    anterior = None\n",
        "\n",
        "    while actual and actual.receta.colegiado != colegiado and actual.receta.fecha_cita != fecha_cita and actual.receta.hora_cita != hora_cita:\n",
        "      anterior = actual\n",
        "      actual = actual.siguiente\n",
        "      \n",
        "    if anterior is None:\n",
        "      self.primero = actual.siguiente\n",
        "      actual.siguiente = None\n",
        "    elif actual:\n",
        "      anterior.siguiente = actual.siguiente\n",
        "      actual.siguiente = None\n",
        "\n",
        "  def modificar(self, paciente, nueva_fecha, nueva_hora):\n",
        "    actual = self.primero\n",
        "    while actual is not None:\n",
        "      if actual.receta.paciente == paciente:\n",
        "        actual.receta.fecha_cita = nueva_fecha\n",
        "        actual.receta.hora_cita = nueva_hora\n",
        "        \n",
        "      actual = actual.siguiente\n",
        "      "
      ],
      "metadata": {
        "id": "l--kaIP9qblB"
      },
      "execution_count": 31,
      "outputs": []
    },
    {
      "cell_type": "markdown",
      "source": [
        "**Creación de objetos Receta**"
      ],
      "metadata": {
        "id": "9vpuXEQuxxNO"
      }
    },
    {
      "cell_type": "code",
      "source": [
        "r1 = receta(\"Gerson López\", \"03-10-1990\", \"Melvin Ortiz\", 20156, \"17-01-2023\", \n",
        "            \"11:30\", \"Medicina general\", \"2 pildoras de acetaminofén cada 6 horas\")\n",
        "r2 = receta(\"Karen Gómez\", \"08-05-2000\", \"Jorge Merida\", 8567, \"31-01-2023\", \n",
        "            \"09:00\", \"Medicina interna\", \"Tylenol de 20 ml cada 4 horas\")\n",
        "r3 = receta(\"Luis García\", \"17-09-1987\", \"Melvin Ortiz\", 20156, \"02-02-2023\", \n",
        "            \"12:00\", \"Medicina general\", \"2 cucharadas de Pepto-Bismol cada hora hasta que la diarrea desaparezca\")"
      ],
      "metadata": {
        "id": "wFS17ZGRx1hd"
      },
      "execution_count": 32,
      "outputs": []
    },
    {
      "cell_type": "markdown",
      "source": [
        "**Inserción**"
      ],
      "metadata": {
        "id": "yTzan43Uypam"
      }
    },
    {
      "cell_type": "code",
      "source": [
        "lista_e = lista_enlazada()\n",
        "lista_e.insertar(r1)\n",
        "lista_e.insertar(r2)\n",
        "lista_e.insertar(r3)"
      ],
      "metadata": {
        "id": "geVOJjXN1l4R"
      },
      "execution_count": 33,
      "outputs": []
    },
    {
      "cell_type": "markdown",
      "source": [
        "**Recorrer**"
      ],
      "metadata": {
        "id": "kkQ7MRUSxt8x"
      }
    },
    {
      "cell_type": "code",
      "source": [
        "lista_e.recorrer()"
      ],
      "metadata": {
        "id": "pAo-mGIQyieD",
        "colab": {
          "base_uri": "https://localhost:8080/"
        },
        "outputId": "2b5e5ee8-659d-4161-bd57-a450b2359cbe"
      },
      "execution_count": 34,
      "outputs": [
        {
          "output_type": "stream",
          "name": "stdout",
          "text": [
            "Paciente: Gerson López | Fecha de Nacimiento:  03-10-1990 | Doctor:  Melvin Ortiz | Colegiado:  20156 | Fecha cita:  17-01-2023 | Hora cita:  11:30 | Consulta:  Medicina general | Tratamiento:  2 pildoras de acetaminofén cada 6 horas\n",
            "Paciente: Karen Gómez | Fecha de Nacimiento:  08-05-2000 | Doctor:  Jorge Merida | Colegiado:  8567 | Fecha cita:  31-01-2023 | Hora cita:  09:00 | Consulta:  Medicina interna | Tratamiento:  Tylenol de 20 ml cada 4 horas\n",
            "Paciente: Luis García | Fecha de Nacimiento:  17-09-1987 | Doctor:  Melvin Ortiz | Colegiado:  20156 | Fecha cita:  02-02-2023 | Hora cita:  12:00 | Consulta:  Medicina general | Tratamiento:  2 cucharadas de Pepto-Bismol cada hora hasta que la diarrea desaparezca\n"
          ]
        }
      ]
    },
    {
      "cell_type": "markdown",
      "source": [
        "**Eliminar**"
      ],
      "metadata": {
        "id": "TR2abbOanr0D"
      }
    },
    {
      "cell_type": "code",
      "source": [
        "lista_e.eliminar(20156,\"17-01-2023\",\"11:30\")"
      ],
      "metadata": {
        "id": "P9MOIJSlnyU1"
      },
      "execution_count": 35,
      "outputs": []
    },
    {
      "cell_type": "code",
      "source": [
        "lista_e.recorrer()"
      ],
      "metadata": {
        "colab": {
          "base_uri": "https://localhost:8080/"
        },
        "id": "FlOwoWMKoPUO",
        "outputId": "93c721c0-831c-40b0-c330-93593d5f0e67"
      },
      "execution_count": 36,
      "outputs": [
        {
          "output_type": "stream",
          "name": "stdout",
          "text": [
            "Paciente: Karen Gómez | Fecha de Nacimiento:  08-05-2000 | Doctor:  Jorge Merida | Colegiado:  8567 | Fecha cita:  31-01-2023 | Hora cita:  09:00 | Consulta:  Medicina interna | Tratamiento:  Tylenol de 20 ml cada 4 horas\n",
            "Paciente: Luis García | Fecha de Nacimiento:  17-09-1987 | Doctor:  Melvin Ortiz | Colegiado:  20156 | Fecha cita:  02-02-2023 | Hora cita:  12:00 | Consulta:  Medicina general | Tratamiento:  2 cucharadas de Pepto-Bismol cada hora hasta que la diarrea desaparezca\n"
          ]
        }
      ]
    },
    {
      "cell_type": "markdown",
      "source": [
        "**Modificar**"
      ],
      "metadata": {
        "id": "LYL_pddqKc6k"
      }
    },
    {
      "cell_type": "code",
      "source": [
        "lista_e.modificar(\"Karen Gómez\",\"17-02-2023\", \"15:00\")"
      ],
      "metadata": {
        "id": "_miG8HnSKgoa"
      },
      "execution_count": 37,
      "outputs": []
    },
    {
      "cell_type": "code",
      "source": [
        "lista_e.recorrer()"
      ],
      "metadata": {
        "colab": {
          "base_uri": "https://localhost:8080/"
        },
        "id": "JodHOrV6L6OL",
        "outputId": "57cf08f9-863c-4e53-d7bb-4745cedcf826"
      },
      "execution_count": 38,
      "outputs": [
        {
          "output_type": "stream",
          "name": "stdout",
          "text": [
            "Paciente: Karen Gómez | Fecha de Nacimiento:  08-05-2000 | Doctor:  Jorge Merida | Colegiado:  8567 | Fecha cita:  17-02-2023 | Hora cita:  15:00 | Consulta:  Medicina interna | Tratamiento:  Tylenol de 20 ml cada 4 horas\n",
            "Paciente: Luis García | Fecha de Nacimiento:  17-09-1987 | Doctor:  Melvin Ortiz | Colegiado:  20156 | Fecha cita:  02-02-2023 | Hora cita:  12:00 | Consulta:  Medicina general | Tratamiento:  2 cucharadas de Pepto-Bismol cada hora hasta que la diarrea desaparezca\n"
          ]
        }
      ]
    }
  ]
}